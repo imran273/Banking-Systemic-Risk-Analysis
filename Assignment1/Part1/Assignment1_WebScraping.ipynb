{
 "cells": [
  {
   "cell_type": "code",
   "execution_count": 1,
   "metadata": {
    "collapsed": false,
    "scrolled": true
   },
   "outputs": [
    {
     "ename": "ImportError",
     "evalue": "No module named request",
     "output_type": "error",
     "traceback": [
      "\u001b[0;31m---------------------------------------------------------------------------\u001b[0m",
      "\u001b[0;31mImportError\u001b[0m                               Traceback (most recent call last)",
      "\u001b[0;32m<ipython-input-1-f21c773f8c72>\u001b[0m in \u001b[0;36m<module>\u001b[0;34m()\u001b[0m\n\u001b[0;32m----> 1\u001b[0;31m \u001b[1;32mfrom\u001b[0m \u001b[0murllib\u001b[0m\u001b[1;33m.\u001b[0m\u001b[0mrequest\u001b[0m \u001b[1;32mimport\u001b[0m \u001b[0murlopen\u001b[0m\u001b[1;33m\u001b[0m\u001b[0m\n\u001b[0m\u001b[1;32m      2\u001b[0m \u001b[1;32mfrom\u001b[0m \u001b[0mbs4\u001b[0m \u001b[1;32mimport\u001b[0m \u001b[0mBeautifulSoup\u001b[0m\u001b[1;33m\u001b[0m\u001b[0m\n\u001b[1;32m      3\u001b[0m \u001b[1;33m\u001b[0m\u001b[0m\n\u001b[1;32m      4\u001b[0m \u001b[0murl\u001b[0m \u001b[1;33m=\u001b[0m \u001b[1;34m\"https://www.ffiec.gov/nicpubweb/nicweb/HCSGreaterThan10B.aspx\"\u001b[0m\u001b[1;33m\u001b[0m\u001b[0m\n\u001b[1;32m      5\u001b[0m \u001b[0mpage\u001b[0m \u001b[1;33m=\u001b[0m \u001b[0murlopen\u001b[0m\u001b[1;33m(\u001b[0m\u001b[0murl\u001b[0m\u001b[1;33m)\u001b[0m\u001b[1;33m\u001b[0m\u001b[0m\n",
      "\u001b[0;31mImportError\u001b[0m: No module named request"
     ]
    }
   ],
   "source": [
    "from urllib.request import urlopen\n",
    "from bs4 import BeautifulSoup\n",
    "\n",
    "url = \"https://www.ffiec.gov/nicpubweb/nicweb/HCSGreaterThan10B.aspx\"\n",
    "page = urlopen(url)\n",
    "\n",
    "soup = BeautifulSoup(page,\"lxml\")\n",
    "soup"
   ]
  },
  {
   "cell_type": "code",
   "execution_count": 5,
   "metadata": {
    "collapsed": false
   },
   "outputs": [
    {
     "ename": "NameError",
     "evalue": "name 'soup' is not defined",
     "output_type": "error",
     "traceback": [
      "\u001b[1;31m---------------------------------------------------------------------------\u001b[0m",
      "\u001b[1;31mNameError\u001b[0m                                 Traceback (most recent call last)",
      "\u001b[1;32m<ipython-input-5-bb17614f29e6>\u001b[0m in \u001b[0;36m<module>\u001b[1;34m()\u001b[0m\n\u001b[1;32m----> 1\u001b[1;33m \u001b[0mtable\u001b[0m  \u001b[1;33m=\u001b[0m \u001b[0msoup\u001b[0m\u001b[1;33m.\u001b[0m\u001b[0mfind\u001b[0m\u001b[1;33m(\u001b[0m\u001b[1;34m'table'\u001b[0m\u001b[1;33m,\u001b[0m\u001b[0mclass_\u001b[0m \u001b[1;33m=\u001b[0m \u001b[1;34m'datagrid'\u001b[0m\u001b[1;33m)\u001b[0m\u001b[1;33m\u001b[0m\u001b[0m\n\u001b[0m\u001b[0;32m      2\u001b[0m \u001b[0mtable\u001b[0m\u001b[1;33m\u001b[0m\u001b[0m\n",
      "\u001b[1;31mNameError\u001b[0m: name 'soup' is not defined"
     ]
    }
   ],
   "source": [
    "table  = soup.find('table',class_ = 'datagrid')\n",
    "table"
   ]
  },
  {
   "cell_type": "code",
   "execution_count": 6,
   "metadata": {
    "collapsed": false
   },
   "outputs": [
    {
     "ename": "NameError",
     "evalue": "name 'soup' is not defined",
     "output_type": "error",
     "traceback": [
      "\u001b[1;31m---------------------------------------------------------------------------\u001b[0m",
      "\u001b[1;31mNameError\u001b[0m                                 Traceback (most recent call last)",
      "\u001b[1;32m<ipython-input-6-b399468ad206>\u001b[0m in \u001b[0;36m<module>\u001b[1;34m()\u001b[0m\n\u001b[1;32m----> 1\u001b[1;33m \u001b[0mtable\u001b[0m  \u001b[1;33m=\u001b[0m \u001b[0msoup\u001b[0m\u001b[1;33m.\u001b[0m\u001b[0mfind\u001b[0m\u001b[1;33m(\u001b[0m\u001b[1;34m'table'\u001b[0m\u001b[1;33m,\u001b[0m\u001b[0mclass_\u001b[0m \u001b[1;33m=\u001b[0m \u001b[1;34m'datagrid'\u001b[0m\u001b[1;33m)\u001b[0m\u001b[1;33m\u001b[0m\u001b[0m\n\u001b[0m\u001b[0;32m      2\u001b[0m \u001b[0mheader\u001b[0m \u001b[1;33m=\u001b[0m \u001b[1;33m[\u001b[0m\u001b[1;33m]\u001b[0m\u001b[1;33m\u001b[0m\u001b[0m\n\u001b[0;32m      3\u001b[0m \u001b[1;32mfor\u001b[0m \u001b[0mrow\u001b[0m \u001b[1;32min\u001b[0m \u001b[0mtable\u001b[0m\u001b[1;33m.\u001b[0m\u001b[0mfindAll\u001b[0m\u001b[1;33m(\u001b[0m\u001b[1;34m\"tr\"\u001b[0m\u001b[1;33m,\u001b[0m\u001b[0mclass_\u001b[0m\u001b[1;33m=\u001b[0m\u001b[1;34m'datagridH'\u001b[0m\u001b[1;33m)\u001b[0m\u001b[1;33m:\u001b[0m\u001b[1;33m\u001b[0m\u001b[0m\n\u001b[0;32m      4\u001b[0m     \u001b[0mhead\u001b[0m\u001b[1;33m=\u001b[0m \u001b[0mrow\u001b[0m\u001b[1;33m.\u001b[0m\u001b[0mfindAll\u001b[0m\u001b[1;33m(\u001b[0m\u001b[1;34m'th'\u001b[0m\u001b[1;33m)\u001b[0m\u001b[1;33m\u001b[0m\u001b[0m\n\u001b[0;32m      5\u001b[0m     \u001b[1;32mfor\u001b[0m \u001b[0mi\u001b[0m \u001b[1;32min\u001b[0m \u001b[0mrange\u001b[0m\u001b[1;33m(\u001b[0m\u001b[1;36m4\u001b[0m\u001b[1;33m)\u001b[0m\u001b[1;33m:\u001b[0m\u001b[1;33m\u001b[0m\u001b[0m\n",
      "\u001b[1;31mNameError\u001b[0m: name 'soup' is not defined"
     ]
    }
   ],
   "source": [
    "table  = soup.find('table',class_ = 'datagrid')\n",
    "header = []\n",
    "for row in table.findAll(\"tr\",class_='datagridH'):\n",
    "    head= row.findAll('th')\n",
    "    for i in range(4):\n",
    "        header.append(head[i].find(text=True))\n",
    "header\n"
   ]
  },
  {
   "cell_type": "code",
   "execution_count": 75,
   "metadata": {
    "collapsed": false
   },
   "outputs": [
    {
     "name": "stdout",
     "output_type": "stream",
     "text": [
      "  RANK                             InstutionName           Location  \\\n",
      "0    1            JPMORGAN CHASE & CO. (1039502)       NEW YORK, NY   \n",
      "1    2     BANK OF AMERICA CORPORATION (1073757)      CHARLOTTE, NC   \n",
      "2    3           WELLS FARGO & COMPANY (1120754)  SAN FRANCISCO, CA   \n",
      "3    4                  CITIGROUP INC. (1951350)       NEW YORK, NY   \n",
      "4    5  GOLDMAN SACHS GROUP, INC., THE (2380443)       NEW YORK, NY   \n",
      "\n",
      "      TotalAssets        Date  \n",
      "0  $2,466,096,000  06/30/2016  \n",
      "1  $2,189,811,000  06/30/2016  \n",
      "2  $1,889,235,000  06/30/2016  \n",
      "3  $1,818,771,000  06/30/2016  \n",
      "4    $896,870,000  06/30/2016  \n"
     ]
    }
   ],
   "source": [
    "table  = soup.find('table',class_ = 'datagrid')\n",
    "header = []\n",
    "for row in table.findAll(\"tr\",class_='datagridH'):\n",
    "    head= row.findAll('th')\n",
    "    for i in range(4):\n",
    "        header.append(head[i].find(text=True))\n",
    "date_of_data = header[-1].split(' ')[0]\n",
    "RANK = []\n",
    "InstutionName = []\n",
    "Location = []\n",
    "TotalAssets = []\n",
    "date22 = []\n",
    "for row in table.findAll(\"tr\"):\n",
    "    cells= row.findAll(\"td\")\n",
    "    if len(cells) == 4:\n",
    "        RANK.append(cells[0].find(text=True))\n",
    "        InstutionName.append(cells[1].find('a').contents[0])\n",
    "        Location.append(cells[2].find(text=True))\n",
    "        TotalAssets.append(cells[3].find(text=True))\n",
    "        date22.append(date_of_data)\n",
    "\n",
    "import pandas as pd\n",
    "df = pd.DataFrame(RANK,columns = ['RANK'])\n",
    "df['InstutionName'] = InstutionName\n",
    "df['Location'] = Location\n",
    "df['TotalAssets'] = TotalAssets\n",
    "df['Date'] = date22\n",
    "print(df.head())"
   ]
  },
  {
   "cell_type": "code",
   "execution_count": 58,
   "metadata": {
    "collapsed": false
   },
   "outputs": [
    {
     "data": {
      "text/plain": [
       "452"
      ]
     },
     "execution_count": 58,
     "metadata": {},
     "output_type": "execute_result"
    }
   ],
   "source": [
    "len(soup.find('table',class_ = 'datagrid').findAll(\"td\"))"
   ]
  },
  {
   "cell_type": "code",
   "execution_count": 166,
   "metadata": {
    "collapsed": false
   },
   "outputs": [],
   "source": [
    "import pandas as pd\n",
    "table  = soup.find('table',class_ = 'datagrid')\n",
    "header = []\n",
    "RANK = []\n",
    "InstutionName = []\n",
    "Location = []\n",
    "TotalAssets = []\n",
    "date22 = []\n",
    "for row in table.findAll(\"tr\"):\n",
    "    if len(header) <= 0:\n",
    "        for row2 in table.findAll(\"tr\",class_='datagridH'):\n",
    "            head= row2.findAll('th')\n",
    "            for i in range(4):\n",
    "                header.append(head[i].find(text=True))\n",
    "        \n",
    "    cells = row.findAll(\"td\") \n",
    "    #print(header)\n",
    "    if len(cells) == 4:        \n",
    "        RANK.append(cells[0].find(text=True))\n",
    "        InstutionName.append(cells[1].find('a').contents[0])\n",
    "        Location.append(cells[2].find(text=True))\n",
    "        TotalAssets.append(int(cells[3].find(text=True).replace(\"$\",\"\").replace(\",\",\"\")))        \n",
    "        date22.append(header[-1].split(' ')[0])\n",
    "df = pd.DataFrame({header[0]:RANK,header[1]:InstutionName,header[2]:Location,'Total Assets':TotalAssets,'Date':pd.to_datetime(date22)})"
   ]
  },
  {
   "cell_type": "code",
   "execution_count": 132,
   "metadata": {
    "collapsed": false
   },
   "outputs": [
    {
     "data": {
      "text/plain": [
       "Date                          datetime64[ns]\n",
       "Institution Name (RSSD ID)            object\n",
       "Location                              object\n",
       "Rank                                  object\n",
       "Total Assets                           int64\n",
       "dtype: object"
      ]
     },
     "execution_count": 132,
     "metadata": {},
     "output_type": "execute_result"
    }
   ],
   "source": [
    "df.dtypes"
   ]
  },
  {
   "cell_type": "code",
   "execution_count": 6,
   "metadata": {
    "collapsed": false
   },
   "outputs": [
    {
     "name": "stdout",
     "output_type": "stream",
     "text": [
      "20160630\n",
      "1\n",
      "Not matched\n",
      "20160331\n",
      "3\n",
      "Not matched\n"
     ]
    },
    {
     "ename": "StaleElementReferenceException",
     "evalue": "Message: stale element reference: element is not attached to the page document\n  (Session info: chrome=53.0.2785.116)\n  (Driver info: chromedriver=2.24.417431 (9aea000394714d2fbb20850021f6204f2256b9cf),platform=Windows NT 10.0.14393 x86_64)\n",
     "output_type": "error",
     "traceback": [
      "\u001b[0;31m---------------------------------------------------------------------------\u001b[0m",
      "\u001b[0;31mStaleElementReferenceException\u001b[0m            Traceback (most recent call last)",
      "\u001b[0;32m<ipython-input-6-6acf17cf3f40>\u001b[0m in \u001b[0;36m<module>\u001b[0;34m()\u001b[0m\n\u001b[1;32m     19\u001b[0m     \u001b[1;31m#time.sleep(10)\u001b[0m\u001b[1;33m\u001b[0m\u001b[1;33m\u001b[0m\u001b[0m\n\u001b[1;32m     20\u001b[0m     \u001b[0mprint\u001b[0m\u001b[1;33m(\u001b[0m\u001b[1;34m\"Not matched\"\u001b[0m\u001b[1;33m)\u001b[0m\u001b[1;33m\u001b[0m\u001b[0m\n\u001b[0;32m---> 21\u001b[0;31m     \u001b[1;32mif\u001b[0m\u001b[1;33m(\u001b[0m\u001b[0mo\u001b[0m\u001b[1;33m.\u001b[0m\u001b[0mtext\u001b[0m \u001b[1;33m==\u001b[0m \u001b[1;34m'20150930'\u001b[0m\u001b[1;33m)\u001b[0m\u001b[1;33m:\u001b[0m\u001b[1;33m\u001b[0m\u001b[0m\n\u001b[0m\u001b[1;32m     22\u001b[0m         \u001b[0mprint\u001b[0m\u001b[1;33m(\u001b[0m\u001b[1;34m\"Matched\"\u001b[0m\u001b[1;33m)\u001b[0m\u001b[1;33m\u001b[0m\u001b[0m\n\u001b[1;32m     23\u001b[0m         \u001b[0mtable\u001b[0m  \u001b[1;33m=\u001b[0m \u001b[0msoup\u001b[0m\u001b[1;33m.\u001b[0m\u001b[0mfind\u001b[0m\u001b[1;33m(\u001b[0m\u001b[1;34m'table'\u001b[0m\u001b[1;33m,\u001b[0m\u001b[0mclass_\u001b[0m \u001b[1;33m=\u001b[0m \u001b[1;34m'datagrid'\u001b[0m\u001b[1;33m)\u001b[0m\u001b[1;33m\u001b[0m\u001b[0m\n",
      "\u001b[0;32mC:\\Users\\lalit\\Anaconda3\\lib\\site-packages\\selenium\\webdriver\\remote\\webelement.py\u001b[0m in \u001b[0;36mtext\u001b[0;34m(self)\u001b[0m\n\u001b[1;32m     66\u001b[0m     \u001b[1;32mdef\u001b[0m \u001b[0mtext\u001b[0m\u001b[1;33m(\u001b[0m\u001b[0mself\u001b[0m\u001b[1;33m)\u001b[0m\u001b[1;33m:\u001b[0m\u001b[1;33m\u001b[0m\u001b[0m\n\u001b[1;32m     67\u001b[0m         \u001b[1;34m\"\"\"The text of the element.\"\"\"\u001b[0m\u001b[1;33m\u001b[0m\u001b[0m\n\u001b[0;32m---> 68\u001b[0;31m         \u001b[1;32mreturn\u001b[0m \u001b[0mself\u001b[0m\u001b[1;33m.\u001b[0m\u001b[0m_execute\u001b[0m\u001b[1;33m(\u001b[0m\u001b[0mCommand\u001b[0m\u001b[1;33m.\u001b[0m\u001b[0mGET_ELEMENT_TEXT\u001b[0m\u001b[1;33m)\u001b[0m\u001b[1;33m[\u001b[0m\u001b[1;34m'value'\u001b[0m\u001b[1;33m]\u001b[0m\u001b[1;33m\u001b[0m\u001b[0m\n\u001b[0m\u001b[1;32m     69\u001b[0m \u001b[1;33m\u001b[0m\u001b[0m\n\u001b[1;32m     70\u001b[0m     \u001b[1;32mdef\u001b[0m \u001b[0mclick\u001b[0m\u001b[1;33m(\u001b[0m\u001b[0mself\u001b[0m\u001b[1;33m)\u001b[0m\u001b[1;33m:\u001b[0m\u001b[1;33m\u001b[0m\u001b[0m\n",
      "\u001b[0;32mC:\\Users\\lalit\\Anaconda3\\lib\\site-packages\\selenium\\webdriver\\remote\\webelement.py\u001b[0m in \u001b[0;36m_execute\u001b[0;34m(self, command, params)\u001b[0m\n\u001b[1;32m    459\u001b[0m             \u001b[0mparams\u001b[0m \u001b[1;33m=\u001b[0m \u001b[1;33m{\u001b[0m\u001b[1;33m}\u001b[0m\u001b[1;33m\u001b[0m\u001b[0m\n\u001b[1;32m    460\u001b[0m         \u001b[0mparams\u001b[0m\u001b[1;33m[\u001b[0m\u001b[1;34m'id'\u001b[0m\u001b[1;33m]\u001b[0m \u001b[1;33m=\u001b[0m \u001b[0mself\u001b[0m\u001b[1;33m.\u001b[0m\u001b[0m_id\u001b[0m\u001b[1;33m\u001b[0m\u001b[0m\n\u001b[0;32m--> 461\u001b[0;31m         \u001b[1;32mreturn\u001b[0m \u001b[0mself\u001b[0m\u001b[1;33m.\u001b[0m\u001b[0m_parent\u001b[0m\u001b[1;33m.\u001b[0m\u001b[0mexecute\u001b[0m\u001b[1;33m(\u001b[0m\u001b[0mcommand\u001b[0m\u001b[1;33m,\u001b[0m \u001b[0mparams\u001b[0m\u001b[1;33m)\u001b[0m\u001b[1;33m\u001b[0m\u001b[0m\n\u001b[0m\u001b[1;32m    462\u001b[0m \u001b[1;33m\u001b[0m\u001b[0m\n\u001b[1;32m    463\u001b[0m     \u001b[1;32mdef\u001b[0m \u001b[0mfind_element\u001b[0m\u001b[1;33m(\u001b[0m\u001b[0mself\u001b[0m\u001b[1;33m,\u001b[0m \u001b[0mby\u001b[0m\u001b[1;33m=\u001b[0m\u001b[0mBy\u001b[0m\u001b[1;33m.\u001b[0m\u001b[0mID\u001b[0m\u001b[1;33m,\u001b[0m \u001b[0mvalue\u001b[0m\u001b[1;33m=\u001b[0m\u001b[1;32mNone\u001b[0m\u001b[1;33m)\u001b[0m\u001b[1;33m:\u001b[0m\u001b[1;33m\u001b[0m\u001b[0m\n",
      "\u001b[0;32mC:\\Users\\lalit\\Anaconda3\\lib\\site-packages\\selenium\\webdriver\\remote\\webdriver.py\u001b[0m in \u001b[0;36mexecute\u001b[0;34m(self, driver_command, params)\u001b[0m\n\u001b[1;32m    234\u001b[0m         \u001b[0mresponse\u001b[0m \u001b[1;33m=\u001b[0m \u001b[0mself\u001b[0m\u001b[1;33m.\u001b[0m\u001b[0mcommand_executor\u001b[0m\u001b[1;33m.\u001b[0m\u001b[0mexecute\u001b[0m\u001b[1;33m(\u001b[0m\u001b[0mdriver_command\u001b[0m\u001b[1;33m,\u001b[0m \u001b[0mparams\u001b[0m\u001b[1;33m)\u001b[0m\u001b[1;33m\u001b[0m\u001b[0m\n\u001b[1;32m    235\u001b[0m         \u001b[1;32mif\u001b[0m \u001b[0mresponse\u001b[0m\u001b[1;33m:\u001b[0m\u001b[1;33m\u001b[0m\u001b[0m\n\u001b[0;32m--> 236\u001b[0;31m             \u001b[0mself\u001b[0m\u001b[1;33m.\u001b[0m\u001b[0merror_handler\u001b[0m\u001b[1;33m.\u001b[0m\u001b[0mcheck_response\u001b[0m\u001b[1;33m(\u001b[0m\u001b[0mresponse\u001b[0m\u001b[1;33m)\u001b[0m\u001b[1;33m\u001b[0m\u001b[0m\n\u001b[0m\u001b[1;32m    237\u001b[0m             response['value'] = self._unwrap_value(\n\u001b[1;32m    238\u001b[0m                 response.get('value', None))\n",
      "\u001b[0;32mC:\\Users\\lalit\\Anaconda3\\lib\\site-packages\\selenium\\webdriver\\remote\\errorhandler.py\u001b[0m in \u001b[0;36mcheck_response\u001b[0;34m(self, response)\u001b[0m\n\u001b[1;32m    190\u001b[0m         \u001b[1;32melif\u001b[0m \u001b[0mexception_class\u001b[0m \u001b[1;33m==\u001b[0m \u001b[0mUnexpectedAlertPresentException\u001b[0m \u001b[1;32mand\u001b[0m \u001b[1;34m'alert'\u001b[0m \u001b[1;32min\u001b[0m \u001b[0mvalue\u001b[0m\u001b[1;33m:\u001b[0m\u001b[1;33m\u001b[0m\u001b[0m\n\u001b[1;32m    191\u001b[0m             \u001b[1;32mraise\u001b[0m \u001b[0mexception_class\u001b[0m\u001b[1;33m(\u001b[0m\u001b[0mmessage\u001b[0m\u001b[1;33m,\u001b[0m \u001b[0mscreen\u001b[0m\u001b[1;33m,\u001b[0m \u001b[0mstacktrace\u001b[0m\u001b[1;33m,\u001b[0m \u001b[0mvalue\u001b[0m\u001b[1;33m[\u001b[0m\u001b[1;34m'alert'\u001b[0m\u001b[1;33m]\u001b[0m\u001b[1;33m.\u001b[0m\u001b[0mget\u001b[0m\u001b[1;33m(\u001b[0m\u001b[1;34m'text'\u001b[0m\u001b[1;33m)\u001b[0m\u001b[1;33m)\u001b[0m\u001b[1;33m\u001b[0m\u001b[0m\n\u001b[0;32m--> 192\u001b[0;31m         \u001b[1;32mraise\u001b[0m \u001b[0mexception_class\u001b[0m\u001b[1;33m(\u001b[0m\u001b[0mmessage\u001b[0m\u001b[1;33m,\u001b[0m \u001b[0mscreen\u001b[0m\u001b[1;33m,\u001b[0m \u001b[0mstacktrace\u001b[0m\u001b[1;33m)\u001b[0m\u001b[1;33m\u001b[0m\u001b[0m\n\u001b[0m\u001b[1;32m    193\u001b[0m \u001b[1;33m\u001b[0m\u001b[0m\n\u001b[1;32m    194\u001b[0m     \u001b[1;32mdef\u001b[0m \u001b[0m_value_or_default\u001b[0m\u001b[1;33m(\u001b[0m\u001b[0mself\u001b[0m\u001b[1;33m,\u001b[0m \u001b[0mobj\u001b[0m\u001b[1;33m,\u001b[0m \u001b[0mkey\u001b[0m\u001b[1;33m,\u001b[0m \u001b[0mdefault\u001b[0m\u001b[1;33m)\u001b[0m\u001b[1;33m:\u001b[0m\u001b[1;33m\u001b[0m\u001b[0m\n",
      "\u001b[0;31mStaleElementReferenceException\u001b[0m: Message: stale element reference: element is not attached to the page document\n  (Session info: chrome=53.0.2785.116)\n  (Driver info: chromedriver=2.24.417431 (9aea000394714d2fbb20850021f6204f2256b9cf),platform=Windows NT 10.0.14393 x86_64)\n"
     ]
    }
   ],
   "source": [
    "import os\n",
    "import time\n",
    "from selenium.webdriver.support.ui import *\n",
    "from selenium import webdriver\n",
    "\n",
    "chromedriver = \"C:\\\\Users\\\\lalit\\\\Downloads\\\\chromedriver.exe\"\n",
    "os.environ[\"webdriver.chrome.driver\"] = chromedriver\n",
    "driver = webdriver.Chrome(chromedriver)\n",
    "\n",
    "driver.get(\"https://www.ffiec.gov/nicpubweb/nicweb/HCSGreaterThan10B.aspx\")\n",
    "select = Select(driver.find_element_by_id(\"DateDropDown\"))\n",
    "options = select.options\n",
    "count = 0\n",
    "for o in options:\n",
    "    count += count + 1\n",
    "    print(o.text)\n",
    "    print(count)\n",
    "    o.click()\n",
    "    #time.sleep(10)\n",
    "    print(\"Not matched\")\n",
    "    if(o.text == '20150930'):\n",
    "        print(\"Matched\")\n",
    "        table  = soup.find('table',class_ = 'datagrid')\n",
    "        header = []\n",
    "        RANK = []\n",
    "        InstutionName = []\n",
    "        Location = []\n",
    "        TotalAssets = []\n",
    "        date22 = []\n",
    "        for row in table.findAll(\"tr\"):\n",
    "            if len(header) <= 0:\n",
    "                for row2 in table.findAll(\"tr\",class_='datagridH'):\n",
    "                    head= row2.findAll('th')\n",
    "                    for i in range(4):\n",
    "                        header.append(head[i].find(text=True))\n",
    "\n",
    "            cells = row.findAll(\"td\") \n",
    "            #print(header)\n",
    "            if len(cells) == 4:        \n",
    "                RANK.append(cells[0].find(text=True))\n",
    "                InstutionName.append(cells[1].find('a').contents[0])\n",
    "                Location.append(cells[2].find(text=True))\n",
    "                TotalAssets.append(int(cells[3].find(text=True).replace(\"$\",\"\").replace(\",\",\"\")))        \n",
    "                date22.append(header[-1].split(' ')[0])\n",
    "        df = pd.DataFrame({header[0]:RANK,header[1]:InstutionName,header[2]:Location,'Total Assets':TotalAssets,'Date':pd.to_datetime(date22)})\n",
    "        print(df)    "
   ]
  },
  {
   "cell_type": "code",
   "execution_count": 134,
   "metadata": {
    "collapsed": false
   },
   "outputs": [
    {
     "name": "stdout",
     "output_type": "stream",
     "text": [
      "Getting first time\n"
     ]
    },
    {
     "ename": "WebDriverException",
     "evalue": "Message: chrome not reachable\n  (Session info: chrome=53.0.2785.116)\n  (Driver info: chromedriver=2.24.417431 (9aea000394714d2fbb20850021f6204f2256b9cf),platform=Windows NT 10.0.14393 x86_64)\n",
     "output_type": "error",
     "traceback": [
      "\u001b[0;31m---------------------------------------------------------------------------\u001b[0m",
      "\u001b[0;31mWebDriverException\u001b[0m                        Traceback (most recent call last)",
      "\u001b[0;32m<ipython-input-134-87d63ee168b5>\u001b[0m in \u001b[0;36m<module>\u001b[0;34m()\u001b[0m\n\u001b[1;32m     27\u001b[0m     \u001b[0mvalues\u001b[0m\u001b[1;33m.\u001b[0m\u001b[0mappend\u001b[0m\u001b[1;33m(\u001b[0m\u001b[0mo\u001b[0m\u001b[1;33m.\u001b[0m\u001b[0mtext\u001b[0m\u001b[1;33m)\u001b[0m\u001b[1;33m\u001b[0m\u001b[0m\n\u001b[1;32m     28\u001b[0m \u001b[1;32mfor\u001b[0m \u001b[0mv\u001b[0m \u001b[1;32min\u001b[0m \u001b[0mvalues\u001b[0m\u001b[1;33m:\u001b[0m\u001b[1;33m\u001b[0m\u001b[0m\n\u001b[0;32m---> 29\u001b[0;31m     \u001b[0mdriver\u001b[0m\u001b[1;33m.\u001b[0m\u001b[0mfind_element_by_xpath\u001b[0m\u001b[1;33m(\u001b[0m\u001b[1;34m\"//select[@name='DateDropDown']/option[text()= \"\u001b[0m \u001b[1;33m+\u001b[0m \u001b[0mv\u001b[0m \u001b[1;33m+\u001b[0m \u001b[1;34m\"]\"\u001b[0m\u001b[1;33m)\u001b[0m\u001b[1;33m.\u001b[0m\u001b[0mclick\u001b[0m\u001b[1;33m(\u001b[0m\u001b[1;33m)\u001b[0m\u001b[1;33m\u001b[0m\u001b[0m\n\u001b[0m\u001b[1;32m     30\u001b[0m     \u001b[0msoup\u001b[0m \u001b[1;33m=\u001b[0m \u001b[0mBeautifulSoup\u001b[0m\u001b[1;33m(\u001b[0m\u001b[0mdriver\u001b[0m\u001b[1;33m.\u001b[0m\u001b[0mpage_source\u001b[0m\u001b[1;33m,\u001b[0m \u001b[1;34m\"lxml\"\u001b[0m\u001b[1;33m)\u001b[0m\u001b[1;33m\u001b[0m\u001b[0m\n\u001b[1;32m     31\u001b[0m     \u001b[0mtime\u001b[0m\u001b[1;33m.\u001b[0m\u001b[0msleep\u001b[0m\u001b[1;33m(\u001b[0m\u001b[1;36m10\u001b[0m\u001b[1;33m)\u001b[0m\u001b[1;33m\u001b[0m\u001b[0m\n",
      "\u001b[0;32mC:\\Users\\lalit\\Anaconda3\\lib\\site-packages\\selenium\\webdriver\\remote\\webdriver.py\u001b[0m in \u001b[0;36mfind_element_by_xpath\u001b[0;34m(self, xpath)\u001b[0m\n\u001b[1;32m    291\u001b[0m             \u001b[0mdriver\u001b[0m\u001b[1;33m.\u001b[0m\u001b[0mfind_element_by_xpath\u001b[0m\u001b[1;33m(\u001b[0m\u001b[1;34m'//div/td[1]'\u001b[0m\u001b[1;33m)\u001b[0m\u001b[1;33m\u001b[0m\u001b[0m\n\u001b[1;32m    292\u001b[0m         \"\"\"\n\u001b[0;32m--> 293\u001b[0;31m         \u001b[1;32mreturn\u001b[0m \u001b[0mself\u001b[0m\u001b[1;33m.\u001b[0m\u001b[0mfind_element\u001b[0m\u001b[1;33m(\u001b[0m\u001b[0mby\u001b[0m\u001b[1;33m=\u001b[0m\u001b[0mBy\u001b[0m\u001b[1;33m.\u001b[0m\u001b[0mXPATH\u001b[0m\u001b[1;33m,\u001b[0m \u001b[0mvalue\u001b[0m\u001b[1;33m=\u001b[0m\u001b[0mxpath\u001b[0m\u001b[1;33m)\u001b[0m\u001b[1;33m\u001b[0m\u001b[0m\n\u001b[0m\u001b[1;32m    294\u001b[0m \u001b[1;33m\u001b[0m\u001b[0m\n\u001b[1;32m    295\u001b[0m     \u001b[1;32mdef\u001b[0m \u001b[0mfind_elements_by_xpath\u001b[0m\u001b[1;33m(\u001b[0m\u001b[0mself\u001b[0m\u001b[1;33m,\u001b[0m \u001b[0mxpath\u001b[0m\u001b[1;33m)\u001b[0m\u001b[1;33m:\u001b[0m\u001b[1;33m\u001b[0m\u001b[0m\n",
      "\u001b[0;32mC:\\Users\\lalit\\Anaconda3\\lib\\site-packages\\selenium\\webdriver\\remote\\webdriver.py\u001b[0m in \u001b[0;36mfind_element\u001b[0;34m(self, by, value)\u001b[0m\n\u001b[1;32m    750\u001b[0m         return self.execute(Command.FIND_ELEMENT, {\n\u001b[1;32m    751\u001b[0m             \u001b[1;34m'using'\u001b[0m\u001b[1;33m:\u001b[0m \u001b[0mby\u001b[0m\u001b[1;33m,\u001b[0m\u001b[1;33m\u001b[0m\u001b[0m\n\u001b[0;32m--> 752\u001b[0;31m             'value': value})['value']\n\u001b[0m\u001b[1;32m    753\u001b[0m \u001b[1;33m\u001b[0m\u001b[0m\n\u001b[1;32m    754\u001b[0m     \u001b[1;32mdef\u001b[0m \u001b[0mfind_elements\u001b[0m\u001b[1;33m(\u001b[0m\u001b[0mself\u001b[0m\u001b[1;33m,\u001b[0m \u001b[0mby\u001b[0m\u001b[1;33m=\u001b[0m\u001b[0mBy\u001b[0m\u001b[1;33m.\u001b[0m\u001b[0mID\u001b[0m\u001b[1;33m,\u001b[0m \u001b[0mvalue\u001b[0m\u001b[1;33m=\u001b[0m\u001b[1;32mNone\u001b[0m\u001b[1;33m)\u001b[0m\u001b[1;33m:\u001b[0m\u001b[1;33m\u001b[0m\u001b[0m\n",
      "\u001b[0;32mC:\\Users\\lalit\\Anaconda3\\lib\\site-packages\\selenium\\webdriver\\remote\\webdriver.py\u001b[0m in \u001b[0;36mexecute\u001b[0;34m(self, driver_command, params)\u001b[0m\n\u001b[1;32m    234\u001b[0m         \u001b[0mresponse\u001b[0m \u001b[1;33m=\u001b[0m \u001b[0mself\u001b[0m\u001b[1;33m.\u001b[0m\u001b[0mcommand_executor\u001b[0m\u001b[1;33m.\u001b[0m\u001b[0mexecute\u001b[0m\u001b[1;33m(\u001b[0m\u001b[0mdriver_command\u001b[0m\u001b[1;33m,\u001b[0m \u001b[0mparams\u001b[0m\u001b[1;33m)\u001b[0m\u001b[1;33m\u001b[0m\u001b[0m\n\u001b[1;32m    235\u001b[0m         \u001b[1;32mif\u001b[0m \u001b[0mresponse\u001b[0m\u001b[1;33m:\u001b[0m\u001b[1;33m\u001b[0m\u001b[0m\n\u001b[0;32m--> 236\u001b[0;31m             \u001b[0mself\u001b[0m\u001b[1;33m.\u001b[0m\u001b[0merror_handler\u001b[0m\u001b[1;33m.\u001b[0m\u001b[0mcheck_response\u001b[0m\u001b[1;33m(\u001b[0m\u001b[0mresponse\u001b[0m\u001b[1;33m)\u001b[0m\u001b[1;33m\u001b[0m\u001b[0m\n\u001b[0m\u001b[1;32m    237\u001b[0m             response['value'] = self._unwrap_value(\n\u001b[1;32m    238\u001b[0m                 response.get('value', None))\n",
      "\u001b[0;32mC:\\Users\\lalit\\Anaconda3\\lib\\site-packages\\selenium\\webdriver\\remote\\errorhandler.py\u001b[0m in \u001b[0;36mcheck_response\u001b[0;34m(self, response)\u001b[0m\n\u001b[1;32m    190\u001b[0m         \u001b[1;32melif\u001b[0m \u001b[0mexception_class\u001b[0m \u001b[1;33m==\u001b[0m \u001b[0mUnexpectedAlertPresentException\u001b[0m \u001b[1;32mand\u001b[0m \u001b[1;34m'alert'\u001b[0m \u001b[1;32min\u001b[0m \u001b[0mvalue\u001b[0m\u001b[1;33m:\u001b[0m\u001b[1;33m\u001b[0m\u001b[0m\n\u001b[1;32m    191\u001b[0m             \u001b[1;32mraise\u001b[0m \u001b[0mexception_class\u001b[0m\u001b[1;33m(\u001b[0m\u001b[0mmessage\u001b[0m\u001b[1;33m,\u001b[0m \u001b[0mscreen\u001b[0m\u001b[1;33m,\u001b[0m \u001b[0mstacktrace\u001b[0m\u001b[1;33m,\u001b[0m \u001b[0mvalue\u001b[0m\u001b[1;33m[\u001b[0m\u001b[1;34m'alert'\u001b[0m\u001b[1;33m]\u001b[0m\u001b[1;33m.\u001b[0m\u001b[0mget\u001b[0m\u001b[1;33m(\u001b[0m\u001b[1;34m'text'\u001b[0m\u001b[1;33m)\u001b[0m\u001b[1;33m)\u001b[0m\u001b[1;33m\u001b[0m\u001b[0m\n\u001b[0;32m--> 192\u001b[0;31m         \u001b[1;32mraise\u001b[0m \u001b[0mexception_class\u001b[0m\u001b[1;33m(\u001b[0m\u001b[0mmessage\u001b[0m\u001b[1;33m,\u001b[0m \u001b[0mscreen\u001b[0m\u001b[1;33m,\u001b[0m \u001b[0mstacktrace\u001b[0m\u001b[1;33m)\u001b[0m\u001b[1;33m\u001b[0m\u001b[0m\n\u001b[0m\u001b[1;32m    193\u001b[0m \u001b[1;33m\u001b[0m\u001b[0m\n\u001b[1;32m    194\u001b[0m     \u001b[1;32mdef\u001b[0m \u001b[0m_value_or_default\u001b[0m\u001b[1;33m(\u001b[0m\u001b[0mself\u001b[0m\u001b[1;33m,\u001b[0m \u001b[0mobj\u001b[0m\u001b[1;33m,\u001b[0m \u001b[0mkey\u001b[0m\u001b[1;33m,\u001b[0m \u001b[0mdefault\u001b[0m\u001b[1;33m)\u001b[0m\u001b[1;33m:\u001b[0m\u001b[1;33m\u001b[0m\u001b[0m\n",
      "\u001b[0;31mWebDriverException\u001b[0m: Message: chrome not reachable\n  (Session info: chrome=53.0.2785.116)\n  (Driver info: chromedriver=2.24.417431 (9aea000394714d2fbb20850021f6204f2256b9cf),platform=Windows NT 10.0.14393 x86_64)\n"
     ]
    }
   ],
   "source": [
    "#####Original Case\n",
    "import os\n",
    "import pandas as pd\n",
    "from bs4 import BeautifulSoup\n",
    "import time\n",
    "from selenium.webdriver.support.ui import *\n",
    "from selenium import webdriver\n",
    "from selenium.webdriver.support.ui import WebDriverWait\n",
    "\n",
    "\n",
    "del RANK,header,InstutionName,Location,TotalAssets,date22\n",
    "url = \"https://www.ffiec.gov/nicpubweb/nicweb/HCSGreaterThan10B.aspx\"\n",
    "page = urlopen(url)\n",
    "\n",
    "soup = BeautifulSoup(page,\"lxml\")\n",
    "\n",
    "chromedriver = \"C:\\\\Users\\\\lalit\\\\Downloads\\\\chromedriver.exe\"\n",
    "os.environ[\"webdriver.chrome.driver\"] = chromedriver\n",
    "driver = webdriver.Chrome(chromedriver)\n",
    "\n",
    "driver.get(\"https://www.ffiec.gov/nicpubweb/nicweb/HCSGreaterThan10B.aspx\")\n",
    "select = Select(driver.find_element_by_id(\"DateDropDown\"))\n",
    "options = select.options\n",
    "values = []\n",
    "\n",
    "for o in options:\n",
    "    values.append(o.text)\n",
    "for v in values: \n",
    "    driver.find_element_by_xpath(\"//select[@name='DateDropDown']/option[text()= \" + v + \"]\").click()\n",
    "    soup = BeautifulSoup(driver.page_source, \"lxml\")\n",
    "    time.sleep(10)  \n",
    "\n",
    "    table  = soup.find('table',class_ = 'datagrid')\n",
    "\n",
    "    if 'header' not in dir() and 'RANK' not in dir() and 'InstitutionName' not in dir() and 'Location' not in dir() and 'TotalAssets' not in dir() and 'date22' not in dir():\n",
    "        print(\"Getting first time\")\n",
    "        header = []\n",
    "        RANK = []\n",
    "        InstutionName = []\n",
    "        Location = []\n",
    "        TotalAssets = []\n",
    "        date22 = []\n",
    "        for row in table.findAll(\"tr\"):\n",
    "            if len(header) <= 0:\n",
    "                for row2 in table.findAll(\"tr\",class_='datagridH'):\n",
    "                    head= row2.findAll('th')\n",
    "                    for i in range(4):\n",
    "                        header.append(head[i].find(text=True))\n",
    "\n",
    "            cells = row.findAll(\"td\")             \n",
    "            if len(cells) == 4:        \n",
    "                RANK.append(cells[0].find(text=True))\n",
    "                InstutionName.append(cells[1].find('a').contents[0])\n",
    "                Location.append(cells[2].find(text=True))\n",
    "                TotalAssets.append(int(cells[3].find(text=True).replace(\"$\",\"\").replace(\",\",\"\")))        \n",
    "                date22.append(header[-1].split(' ')[0])\n",
    "    else:\n",
    "        for row in table.findAll(\"tr\"):\n",
    "            cells = row.findAll(\"td\") \n",
    "            if len(cells) == 4:        \n",
    "                RANK.append(cells[0].find(text=True))\n",
    "                InstutionName.append(cells[1].find('a').contents[0])\n",
    "                Location.append(cells[2].find(text=True))\n",
    "                TotalAssets.append(int(cells[3].find(text=True).replace(\"$\",\"\").replace(\",\",\"\")))                \n",
    "                date22.append(v)\n",
    "df = pd.DataFrame({header[0]:RANK,header[1]:InstutionName,header[2]:Location,'Total Assets':TotalAssets,'Date':pd.to_datetime(date22)})\n",
    "df.to_csv(\"E:\\\\Output_Stack.csv\")\n",
    "print(\"Completed\")"
   ]
  },
  {
   "cell_type": "code",
   "execution_count": 133,
   "metadata": {
    "collapsed": false
   },
   "outputs": [
    {
     "name": "stderr",
     "output_type": "stream",
     "text": [
      "Bouncer: value 0 - |#                                                         |\r",
      "Bouncer: value 1 - |#                                                         |\r",
      "Bouncer: value 2 - | #                                                        |\r",
      "Bouncer: value 3 - |  #                                                       |\r",
      "Bouncer: value 4 - |   #                                                      |\r",
      "Bouncer: value 5 - |    #                                                     |\r",
      "Bouncer: value 6 - |     #                                                    |\r",
      "Bouncer: value 7 - |      #                                                   |\r",
      "Bouncer: value 8 - |       #                                                  |\r",
      "Bouncer: value 9 - |        #                                                 |\r",
      "Bouncer: value 10 - |         #                                               |\r",
      "Bouncer: value 11 - |          #                                              |\r",
      "Bouncer: value 12 - |           #                                             |\r",
      "Bouncer: value 13 - |            #                                            |\r",
      "Bouncer: value 14 - |             #                                           |\r",
      "Bouncer: value 15 - |              #                                          |\r",
      "Bouncer: value 16 - |               #                                         |\r",
      "Bouncer: value 17 - |                #                                        |\r",
      "Bouncer: value 18 - |                 #                                       |\r",
      "Bouncer: value 19 - |                  #                                      |\r",
      "Bouncer: value 20 - |                   #                                     |\r",
      "Bouncer: value 21 - |                    #                                    |\r",
      "Bouncer: value 22 - |                     #                                   |\r",
      "Bouncer: value 23 - |                      #                                  |\r",
      "Bouncer: value 24 - |                       #                                 |\r",
      "Bouncer: value 25 - |                        #                                |\r",
      "Bouncer: value 26 - |                         #                               |\r",
      "Bouncer: value 27 - |                          #                              |\r",
      "Bouncer: value 28 - |                           #                             |\r",
      "Bouncer: value 29 - |                            #                            |\r",
      "Bouncer: value 30 - |                             #                           |\r",
      "Bouncer: value 31 - |                              #                          |\r",
      "Bouncer: value 32 - |                               #                         |\r",
      "Bouncer: value 33 - |                                #                        |\r",
      "Bouncer: value 34 - |                                 #                       |\r",
      "Bouncer: value 35 - |                                  #                      |\r",
      "Bouncer: value 36 - |                                   #                     |\r",
      "Bouncer: value 37 - |                                    #                    |\r",
      "Bouncer: value 38 - |                                     #                   |\r",
      "Bouncer: value 39 - |                                      #                  |\r",
      "Bouncer: value 40 - |                                       #                 |\r",
      "Bouncer: value 41 - |                                        #                |\r",
      "Bouncer: value 42 - |                                         #               |\r",
      "Bouncer: value 43 - |                                          #              |\r",
      "Bouncer: value 44 - |                                           #             |\r",
      "Bouncer: value 45 - |                                            #            |\r",
      "Bouncer: value 46 - |                                             #           |\r",
      "Bouncer: value 47 - |                                              #          |\r",
      "Bouncer: value 48 - |                                               #         |\r",
      "Bouncer: value 49 - |                                                #        |\r",
      "Bouncer: value 50 - |                                                 #       |\r",
      "Bouncer: value 51 - |                                                  #      |\r",
      "Bouncer: value 52 - |                                                   #     |\r",
      "Bouncer: value 53 - |                                                    #    |\r",
      "Bouncer: value 54 - |                                                     #   |\r",
      "Bouncer: value 55 - |                                                      #  |\r",
      "Bouncer: value 56 - |                                                       # |\r",
      "Bouncer: value 57 - |                                                        #|\r",
      "Bouncer: value 58 - |                                                       # |\r",
      "Bouncer: value 59 - |                                                      #  |\r",
      "Bouncer: value 60 - |                                                     #   |\r",
      "Bouncer: value 61 - |                                                    #    |\r",
      "Bouncer: value 62 - |                                                   #     |\r",
      "Bouncer: value 63 - |                                                  #      |\r",
      "Bouncer: value 64 - |                                                 #       |\r",
      "Bouncer: value 65 - |                                                #        |\r",
      "Bouncer: value 66 - |                                               #         |\r",
      "Bouncer: value 67 - |                                              #          |\r",
      "Bouncer: value 68 - |                                             #           |\r",
      "Bouncer: value 69 - |                                            #            |\r",
      "Bouncer: value 70 - |                                           #             |\r",
      "Bouncer: value 71 - |                                          #              |\r",
      "Bouncer: value 72 - |                                         #               |\r",
      "Bouncer: value 73 - |                                        #                |\r",
      "Bouncer: value 74 - |                                       #                 |\r",
      "Bouncer: value 75 - |                                      #                  |\r",
      "Bouncer: value 76 - |                                     #                   |\r",
      "Bouncer: value 77 - |                                    #                    |\r",
      "Bouncer: value 78 - |                                   #                     |\r",
      "Bouncer: value 79 - |                                  #                      |\r",
      "Bouncer: value 80 - |                                 #                       |\r",
      "Bouncer: value 81 - |                                #                        |\r",
      "Bouncer: value 82 - |                               #                         |\r",
      "Bouncer: value 83 - |                              #                          |\r",
      "Bouncer: value 84 - |                             #                           |\r",
      "Bouncer: value 85 - |                            #                            |\r",
      "Bouncer: value 86 - |                           #                             |\r",
      "Bouncer: value 87 - |                          #                              |\r",
      "Bouncer: value 88 - |                         #                               |\r",
      "Bouncer: value 89 - |                        #                                |\r",
      "Bouncer: value 90 - |                       #                                 |\r",
      "Bouncer: value 91 - |                      #                                  |\r",
      "Bouncer: value 92 - |                     #                                   |\r",
      "Bouncer: value 93 - |                    #                                    |\r",
      "Bouncer: value 94 - |                   #                                     |\r",
      "Bouncer: value 95 - |                  #                                      |\r",
      "Bouncer: value 96 - |                 #                                       |\r",
      "Bouncer: value 97 - |                #                                        |\r",
      "Bouncer: value 98 - |               #                                         |\r",
      "Bouncer: value 99 - |              #                                          |\r",
      "Bouncer: value 99 - |#########################################################|\r\n"
     ]
    }
   ],
   "source": [
    "from __future__ import print_function\n",
    "\n",
    "import sys\n",
    "import time\n",
    "\n",
    "from progressbar import AnimatedMarker, Bar, BouncingBar, Counter, ETA, \\\n",
    "    FileTransferSpeed, FormatLabel, Percentage, \\\n",
    "    ProgressBar, ReverseBar, RotatingMarker, \\\n",
    "    SimpleProgress, Timer, AdaptiveETA\n",
    "\n",
    "examples = [1,2,3]\n",
    "\n",
    "\n",
    "\n",
    "def example16():\n",
    "    widgets = [FormatLabel('Bouncer: value %(value)d - '), BouncingBar()]\n",
    "    pbar = ProgressBar(widgets=widgets)\n",
    "    for i in pbar((i for i in range(100))):\n",
    "        time.sleep(0.001)\n",
    "\n",
    "\n",
    "example16()"
   ]
  },
  {
   "cell_type": "code",
   "execution_count": 140,
   "metadata": {
    "collapsed": false
   },
   "outputs": [],
   "source": [
    "unstackver = df.unstack(level=0)\n",
    "unstackver.to_csv(\"E:\\\\Output_Unstack.csv\")"
   ]
  },
  {
   "cell_type": "code",
   "execution_count": null,
   "metadata": {
    "collapsed": true
   },
   "outputs": [],
   "source": []
  }
 ],
 "metadata": {
  "anaconda-cloud": {},
  "kernelspec": {
   "display_name": "Python [default]",
   "language": "python",
   "name": "python2"
  },
  "language_info": {
   "codemirror_mode": {
    "name": "ipython",
    "version": 2
   },
   "file_extension": ".py",
   "mimetype": "text/x-python",
   "name": "python",
   "nbconvert_exporter": "python",
   "pygments_lexer": "ipython2",
   "version": "2.7.11"
  }
 },
 "nbformat": 4,
 "nbformat_minor": 1
}
